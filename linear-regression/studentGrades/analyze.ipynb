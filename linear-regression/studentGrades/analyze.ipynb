{
 "cells": [
  {
   "cell_type": "code",
   "execution_count": 172,
   "id": "874f43a9",
   "metadata": {},
   "outputs": [],
   "source": [
    "import pandas as pd\n",
    "import numpy as np\n",
    "from sklearn.linear_model import LinearRegression\n",
    "from sklearn.utils import shuffle\n",
    "from sklearn.model_selection import train_test_split\n",
    "import pickle\n",
    "import matplotlib.pyplot as plt\n",
    "from matplotlib import style\n",
    "\n",
    "from random import seed\n",
    "from random import randint"
   ]
  },
  {
   "cell_type": "code",
   "execution_count": 173,
   "id": "7b56c22a",
   "metadata": {},
   "outputs": [],
   "source": [
    "seed(100)"
   ]
  },
  {
   "cell_type": "markdown",
   "id": "865f0cb4",
   "metadata": {},
   "source": [
    "## Dataset\n",
    "https://archive.ics.uci.edu/ml/datasets/Student+Performance\n",
    "\n",
    "## Problem\n",
    "Predict a final grade based on other data about the student"
   ]
  },
  {
   "cell_type": "code",
   "execution_count": 174,
   "id": "c827d3ac",
   "metadata": {},
   "outputs": [],
   "source": [
    "data = pd.read_csv(\"data.csv\", sep=\";\")"
   ]
  },
  {
   "cell_type": "code",
   "execution_count": 175,
   "id": "1864ad76",
   "metadata": {},
   "outputs": [
    {
     "data": {
      "text/plain": [
       "Index(['school', 'sex', 'age', 'address', 'famsize', 'Pstatus', 'Medu', 'Fedu',\n",
       "       'Mjob', 'Fjob', 'reason', 'guardian', 'traveltime', 'studytime',\n",
       "       'failures', 'schoolsup', 'famsup', 'paid', 'activities', 'nursery',\n",
       "       'higher', 'internet', 'romantic', 'famrel', 'freetime', 'goout', 'Dalc',\n",
       "       'Walc', 'health', 'absences', 'G1', 'G2', 'G3'],\n",
       "      dtype='object')"
      ]
     },
     "execution_count": 175,
     "metadata": {},
     "output_type": "execute_result"
    }
   ],
   "source": [
    "data.columns"
   ]
  },
  {
   "cell_type": "code",
   "execution_count": 176,
   "id": "ed0a5825",
   "metadata": {},
   "outputs": [
    {
     "data": {
      "text/html": [
       "<div>\n",
       "<style scoped>\n",
       "    .dataframe tbody tr th:only-of-type {\n",
       "        vertical-align: middle;\n",
       "    }\n",
       "\n",
       "    .dataframe tbody tr th {\n",
       "        vertical-align: top;\n",
       "    }\n",
       "\n",
       "    .dataframe thead th {\n",
       "        text-align: right;\n",
       "    }\n",
       "</style>\n",
       "<table border=\"1\" class=\"dataframe\">\n",
       "  <thead>\n",
       "    <tr style=\"text-align: right;\">\n",
       "      <th></th>\n",
       "      <th>school</th>\n",
       "      <th>sex</th>\n",
       "      <th>age</th>\n",
       "      <th>address</th>\n",
       "      <th>famsize</th>\n",
       "      <th>Pstatus</th>\n",
       "      <th>Medu</th>\n",
       "      <th>Fedu</th>\n",
       "      <th>Mjob</th>\n",
       "      <th>Fjob</th>\n",
       "      <th>...</th>\n",
       "      <th>famrel</th>\n",
       "      <th>freetime</th>\n",
       "      <th>goout</th>\n",
       "      <th>Dalc</th>\n",
       "      <th>Walc</th>\n",
       "      <th>health</th>\n",
       "      <th>absences</th>\n",
       "      <th>G1</th>\n",
       "      <th>G2</th>\n",
       "      <th>G3</th>\n",
       "    </tr>\n",
       "  </thead>\n",
       "  <tbody>\n",
       "    <tr>\n",
       "      <th>0</th>\n",
       "      <td>GP</td>\n",
       "      <td>F</td>\n",
       "      <td>18</td>\n",
       "      <td>U</td>\n",
       "      <td>GT3</td>\n",
       "      <td>A</td>\n",
       "      <td>4</td>\n",
       "      <td>4</td>\n",
       "      <td>at_home</td>\n",
       "      <td>teacher</td>\n",
       "      <td>...</td>\n",
       "      <td>4</td>\n",
       "      <td>3</td>\n",
       "      <td>4</td>\n",
       "      <td>1</td>\n",
       "      <td>1</td>\n",
       "      <td>3</td>\n",
       "      <td>6</td>\n",
       "      <td>5</td>\n",
       "      <td>6</td>\n",
       "      <td>6</td>\n",
       "    </tr>\n",
       "    <tr>\n",
       "      <th>1</th>\n",
       "      <td>GP</td>\n",
       "      <td>F</td>\n",
       "      <td>17</td>\n",
       "      <td>U</td>\n",
       "      <td>GT3</td>\n",
       "      <td>T</td>\n",
       "      <td>1</td>\n",
       "      <td>1</td>\n",
       "      <td>at_home</td>\n",
       "      <td>other</td>\n",
       "      <td>...</td>\n",
       "      <td>5</td>\n",
       "      <td>3</td>\n",
       "      <td>3</td>\n",
       "      <td>1</td>\n",
       "      <td>1</td>\n",
       "      <td>3</td>\n",
       "      <td>4</td>\n",
       "      <td>5</td>\n",
       "      <td>5</td>\n",
       "      <td>6</td>\n",
       "    </tr>\n",
       "    <tr>\n",
       "      <th>2</th>\n",
       "      <td>GP</td>\n",
       "      <td>F</td>\n",
       "      <td>15</td>\n",
       "      <td>U</td>\n",
       "      <td>LE3</td>\n",
       "      <td>T</td>\n",
       "      <td>1</td>\n",
       "      <td>1</td>\n",
       "      <td>at_home</td>\n",
       "      <td>other</td>\n",
       "      <td>...</td>\n",
       "      <td>4</td>\n",
       "      <td>3</td>\n",
       "      <td>2</td>\n",
       "      <td>2</td>\n",
       "      <td>3</td>\n",
       "      <td>3</td>\n",
       "      <td>10</td>\n",
       "      <td>7</td>\n",
       "      <td>8</td>\n",
       "      <td>10</td>\n",
       "    </tr>\n",
       "    <tr>\n",
       "      <th>3</th>\n",
       "      <td>GP</td>\n",
       "      <td>F</td>\n",
       "      <td>15</td>\n",
       "      <td>U</td>\n",
       "      <td>GT3</td>\n",
       "      <td>T</td>\n",
       "      <td>4</td>\n",
       "      <td>2</td>\n",
       "      <td>health</td>\n",
       "      <td>services</td>\n",
       "      <td>...</td>\n",
       "      <td>3</td>\n",
       "      <td>2</td>\n",
       "      <td>2</td>\n",
       "      <td>1</td>\n",
       "      <td>1</td>\n",
       "      <td>5</td>\n",
       "      <td>2</td>\n",
       "      <td>15</td>\n",
       "      <td>14</td>\n",
       "      <td>15</td>\n",
       "    </tr>\n",
       "    <tr>\n",
       "      <th>4</th>\n",
       "      <td>GP</td>\n",
       "      <td>F</td>\n",
       "      <td>16</td>\n",
       "      <td>U</td>\n",
       "      <td>GT3</td>\n",
       "      <td>T</td>\n",
       "      <td>3</td>\n",
       "      <td>3</td>\n",
       "      <td>other</td>\n",
       "      <td>other</td>\n",
       "      <td>...</td>\n",
       "      <td>4</td>\n",
       "      <td>3</td>\n",
       "      <td>2</td>\n",
       "      <td>1</td>\n",
       "      <td>2</td>\n",
       "      <td>5</td>\n",
       "      <td>4</td>\n",
       "      <td>6</td>\n",
       "      <td>10</td>\n",
       "      <td>10</td>\n",
       "    </tr>\n",
       "  </tbody>\n",
       "</table>\n",
       "<p>5 rows × 33 columns</p>\n",
       "</div>"
      ],
      "text/plain": [
       "  school sex  age address famsize Pstatus  Medu  Fedu     Mjob      Fjob  ...  \\\n",
       "0     GP   F   18       U     GT3       A     4     4  at_home   teacher  ...   \n",
       "1     GP   F   17       U     GT3       T     1     1  at_home     other  ...   \n",
       "2     GP   F   15       U     LE3       T     1     1  at_home     other  ...   \n",
       "3     GP   F   15       U     GT3       T     4     2   health  services  ...   \n",
       "4     GP   F   16       U     GT3       T     3     3    other     other  ...   \n",
       "\n",
       "  famrel freetime  goout  Dalc  Walc health absences  G1  G2  G3  \n",
       "0      4        3      4     1     1      3        6   5   6   6  \n",
       "1      5        3      3     1     1      3        4   5   5   6  \n",
       "2      4        3      2     2     3      3       10   7   8  10  \n",
       "3      3        2      2     1     1      5        2  15  14  15  \n",
       "4      4        3      2     1     2      5        4   6  10  10  \n",
       "\n",
       "[5 rows x 33 columns]"
      ]
     },
     "execution_count": 176,
     "metadata": {},
     "output_type": "execute_result"
    }
   ],
   "source": [
    "data.head()"
   ]
  },
  {
   "cell_type": "markdown",
   "id": "357052e2",
   "metadata": {},
   "source": [
    "## Data Cleaning\n",
    "Trim down the columns so the important determining factors for the final grade are used and irrelevant data is filtered out.\n",
    "\n",
    "The first and second period grades are important factors.\n",
    "\n",
    "Other factors which make sense to include are the weekly study time, number of past class failures, and number of school absences."
   ]
  },
  {
   "cell_type": "code",
   "execution_count": 177,
   "id": "c6d9b6d2",
   "metadata": {},
   "outputs": [],
   "source": [
    "trimmed_data = data[[\"G1\", \"G2\", \"G3\", \"studytime\", \"failures\", \"absences\"]]"
   ]
  },
  {
   "cell_type": "code",
   "execution_count": 178,
   "id": "a60661bc",
   "metadata": {},
   "outputs": [
    {
     "data": {
      "text/html": [
       "<div>\n",
       "<style scoped>\n",
       "    .dataframe tbody tr th:only-of-type {\n",
       "        vertical-align: middle;\n",
       "    }\n",
       "\n",
       "    .dataframe tbody tr th {\n",
       "        vertical-align: top;\n",
       "    }\n",
       "\n",
       "    .dataframe thead th {\n",
       "        text-align: right;\n",
       "    }\n",
       "</style>\n",
       "<table border=\"1\" class=\"dataframe\">\n",
       "  <thead>\n",
       "    <tr style=\"text-align: right;\">\n",
       "      <th></th>\n",
       "      <th>G1</th>\n",
       "      <th>G2</th>\n",
       "      <th>G3</th>\n",
       "      <th>studytime</th>\n",
       "      <th>failures</th>\n",
       "      <th>absences</th>\n",
       "    </tr>\n",
       "  </thead>\n",
       "  <tbody>\n",
       "    <tr>\n",
       "      <th>0</th>\n",
       "      <td>5</td>\n",
       "      <td>6</td>\n",
       "      <td>6</td>\n",
       "      <td>2</td>\n",
       "      <td>0</td>\n",
       "      <td>6</td>\n",
       "    </tr>\n",
       "    <tr>\n",
       "      <th>1</th>\n",
       "      <td>5</td>\n",
       "      <td>5</td>\n",
       "      <td>6</td>\n",
       "      <td>2</td>\n",
       "      <td>0</td>\n",
       "      <td>4</td>\n",
       "    </tr>\n",
       "    <tr>\n",
       "      <th>2</th>\n",
       "      <td>7</td>\n",
       "      <td>8</td>\n",
       "      <td>10</td>\n",
       "      <td>2</td>\n",
       "      <td>3</td>\n",
       "      <td>10</td>\n",
       "    </tr>\n",
       "    <tr>\n",
       "      <th>3</th>\n",
       "      <td>15</td>\n",
       "      <td>14</td>\n",
       "      <td>15</td>\n",
       "      <td>3</td>\n",
       "      <td>0</td>\n",
       "      <td>2</td>\n",
       "    </tr>\n",
       "    <tr>\n",
       "      <th>4</th>\n",
       "      <td>6</td>\n",
       "      <td>10</td>\n",
       "      <td>10</td>\n",
       "      <td>2</td>\n",
       "      <td>0</td>\n",
       "      <td>4</td>\n",
       "    </tr>\n",
       "  </tbody>\n",
       "</table>\n",
       "</div>"
      ],
      "text/plain": [
       "   G1  G2  G3  studytime  failures  absences\n",
       "0   5   6   6          2         0         6\n",
       "1   5   5   6          2         0         4\n",
       "2   7   8  10          2         3        10\n",
       "3  15  14  15          3         0         2\n",
       "4   6  10  10          2         0         4"
      ]
     },
     "execution_count": 178,
     "metadata": {},
     "output_type": "execute_result"
    }
   ],
   "source": [
    "trimmed_data.head()"
   ]
  },
  {
   "cell_type": "markdown",
   "id": "f2e03254",
   "metadata": {},
   "source": [
    "### Plot\n",
    "See how the number of previous failures affect the final grade"
   ]
  },
  {
   "cell_type": "code",
   "execution_count": 179,
   "id": "da540d80",
   "metadata": {},
   "outputs": [],
   "source": [
    "style.use(\"ggplot\")"
   ]
  },
  {
   "cell_type": "code",
   "execution_count": 180,
   "id": "bf21e52a",
   "metadata": {
    "scrolled": true
   },
   "outputs": [
    {
     "data": {
      "image/png": "[encoded data removed]",
      "text/plain": [
       "<Figure size 432x288 with 1 Axes>"
      ]
     },
     "metadata": {},
     "output_type": "display_data"
    }
   ],
   "source": [
    "plot = \"failures\"\n",
    "\n",
    "plt.scatter(trimmed_data[plot], data[\"G3\"])\n",
    "plt.xlabel(plot)\n",
    "plt.ylabel(\"final grade\")\n",
    "\n",
    "plt.show()"
   ]
  },
  {
   "cell_type": "markdown",
   "id": "0e733717",
   "metadata": {},
   "source": [
    "### Define the features and the labels"
   ]
  },
  {
   "cell_type": "code",
   "execution_count": 181,
   "id": "a9de0ea6",
   "metadata": {},
   "outputs": [],
   "source": [
    "predicted_col = \"G3\""
   ]
  },
  {
   "cell_type": "code",
   "execution_count": 182,
   "id": "96bb15f0",
   "metadata": {},
   "outputs": [],
   "source": [
    "X_features = np.array(trimmed_data.drop([predicted_col], axis=1))"
   ]
  },
  {
   "cell_type": "code",
   "execution_count": 183,
   "id": "7e9fe944",
   "metadata": {},
   "outputs": [],
   "source": [
    "y_labels = np.array(trimmed_data[predicted_col])"
   ]
  },
  {
   "cell_type": "code",
   "execution_count": 184,
   "id": "04866664",
   "metadata": {},
   "outputs": [
    {
     "data": {
      "text/plain": [
       "array([[ 5,  6,  2,  0,  6],\n",
       "       [ 5,  5,  2,  0,  4],\n",
       "       [ 7,  8,  2,  3, 10],\n",
       "       [15, 14,  3,  0,  2],\n",
       "       [ 6, 10,  2,  0,  4],\n",
       "       [15, 15,  2,  0, 10]])"
      ]
     },
     "execution_count": 184,
     "metadata": {},
     "output_type": "execute_result"
    }
   ],
   "source": [
    "X_features[:6]"
   ]
  },
  {
   "cell_type": "code",
   "execution_count": 185,
   "id": "ad066cbf",
   "metadata": {},
   "outputs": [
    {
     "data": {
      "text/plain": [
       "array([ 6,  6, 10, 15, 10, 15])"
      ]
     },
     "execution_count": 185,
     "metadata": {},
     "output_type": "execute_result"
    }
   ],
   "source": [
    "y_labels[:6]"
   ]
  },
  {
   "cell_type": "markdown",
   "id": "7523d948",
   "metadata": {},
   "source": [
    "## Fitting the data\n",
    "By training the linear regression model, we hope to come up with a line that can predict any student's final grade given the chosen factors.\n",
    "\n",
    "First, the line must be tweaked to fit well on the training data.\n",
    "\n",
    "Next, evaluate the performance of the line on test data. Save the line which has the best performance on test data.\n",
    "\n",
    "Because not all data will be like the given test data, the line which had the best performance on test data is not necessarily the best predictor for other data. Set aside a portion of the data on hand as validation data to see how the model performs on data it has not seen."
   ]
  },
  {
   "cell_type": "markdown",
   "id": "9cb573b5",
   "metadata": {},
   "source": [
    "## Model Parameters\n",
    "Linear regression is just a best fit line, which can be modelled by `y = mx + b`"
   ]
  },
  {
   "cell_type": "markdown",
   "id": "a40ec341",
   "metadata": {},
   "source": [
    "Slope: m\n",
    "\n",
    "\n",
    "This is an array because there should be a scalar value per factor.\n",
    "\n",
    "\n",
    "Each scalar value determines the rise in the predicted value per 1 unit rise in each factor."
   ]
  },
  {
   "cell_type": "markdown",
   "id": "7b7f54b5",
   "metadata": {},
   "source": [
    "Y-intercept: b"
   ]
  },
  {
   "cell_type": "markdown",
   "id": "ef40369e",
   "metadata": {},
   "source": [
    "Coefficient of determination\n",
    "\n",
    "R-squared represents the proportion of variation in the label which can be explained by the features, this shows the strength of the relationship between the features and the label. This measure can range from 0 to 1.\n",
    "\n",
    "This statistical measures is a square of the coefficient of correlation (which is calculated by a mathmatical formula). Correlation coefficient can range from 1 (strong positive relationship) to -1 (strong negative relationship). If the coefficient of correlation is 0, there is no relationship."
   ]
  },
  {
   "cell_type": "code",
   "execution_count": 186,
   "id": "2157790b",
   "metadata": {},
   "outputs": [],
   "source": [
    "class Predictor(object):\n",
    "    predictions_dict = {\n",
    "        \"actual\": [],\n",
    "        \"features\": [],\n",
    "        \"expected\": [],\n",
    "        \"difference\": []\n",
    "    }\n",
    "    \n",
    "    def __init__(self, model):\n",
    "        self.model = model\n",
    "    \n",
    "    def getPredictions(self, val_features, val_labels):\n",
    "        predictions = self.model.predict(val_features)\n",
    "\n",
    "        for x in range(len(predictions)):\n",
    "            actual_pred = predictions[x]\n",
    "            expected = val_labels[x]\n",
    "\n",
    "            Predictor.predictions_dict[\"actual\"].append(actual_pred)\n",
    "            Predictor.predictions_dict[\"features\"].append(val_features[x])\n",
    "            Predictor.predictions_dict[\"expected\"].append(expected)\n",
    "            Predictor.predictions_dict[\"difference\"].append(abs(expected - actual_pred))\n",
    "\n",
    "        predictions_df = pd.DataFrame(Predictor.predictions_dict)\n",
    "        return np.mean(Predictor.predictions_dict[\"difference\"])"
   ]
  },
  {
   "cell_type": "code",
   "execution_count": 187,
   "id": "80dca1ca",
   "metadata": {},
   "outputs": [],
   "source": [
    "def findBestModel():\n",
    "    best = 0\n",
    "    \n",
    "    for _ in range(20):\n",
    "        \"\"\"Define training, test, and validations sets\"\"\"\n",
    "        split_seed = randint(0, 9999)\n",
    "        \n",
    "        # 80% training, 20% test\n",
    "        X_train, X_test, y_train, y_test = train_test_split(\n",
    "            X_features, y_labels, test_size = 0.2, random_state=split_seed)\n",
    "        \n",
    "        # 65% training 0.8 * (1 - 0.1875), 20% test, 15% validation\n",
    "        X_train, X_val, y_train, y_val = train_test_split(\n",
    "            X_train, y_train, test_size=0.1875, random_state=split_seed) # 0.1875 x 0.8 = 0.15\n",
    "        \n",
    "        # train the model with training set\n",
    "        linear = LinearRegression()\n",
    "        linear.fit(X_train, y_train)\n",
    "\n",
    "        \"\"\"r_squared = coefficient of determination\"\"\"\n",
    "        # shows the strength of the relationship between the features and the label\n",
    "        # range from 0 to 1\n",
    "        r_squared = linear.score(X_test, y_test)\n",
    "        if r_squared > best:\n",
    "            best = r_squared\n",
    "            best_X_val = X_val\n",
    "            best_y_val = y_val\n",
    "            with open(\"model.pickle\", \"wb\") as f:\n",
    "                pickle.dump(linear, f)\n",
    "     \n",
    "    best_linear_model = pickle.load(open(\"model.pickle\", \"rb\"))\n",
    "    predictor = Predictor(best_linear_model)\n",
    "    \n",
    "    print('Average deviation during validation', predictor.getPredictions(best_X_val, best_y_val))\n",
    "    print('Slope', best_linear_model.coef_)\n",
    "    print('Y-intercept', best_linear_model.intercept_)\n",
    "    print('R-Squared', best)"
   ]
  },
  {
   "cell_type": "code",
   "execution_count": 188,
   "id": "32ef861d",
   "metadata": {},
   "outputs": [
    {
     "name": "stdout",
     "output_type": "stream",
     "text": [
      "Average deviation during validation 1.2011518213092736\n",
      "Slope [ 0.16451254  1.00131612 -0.17724632 -0.19494512  0.04109643]\n",
      "Y-intercept -2.0336316307203557\n",
      "R-Squared 0.9199629645669747\n"
     ]
    }
   ],
   "source": [
    "findBestModel()"
   ]
  }
 ],
 "metadata": {
  "kernelspec": {
   "display_name": "Python 3 (ipykernel)",
   "language": "python",
   "name": "python3"
  },
  "language_info": {
   "codemirror_mode": {
    "name": "ipython",
    "version": 3
   },
   "file_extension": ".py",
   "mimetype": "text/x-python",
   "name": "python",
   "nbconvert_exporter": "python",
   "pygments_lexer": "ipython3",
   "version": "3.9.2"
  }
 },
 "nbformat": 4,
 "nbformat_minor": 5
}
